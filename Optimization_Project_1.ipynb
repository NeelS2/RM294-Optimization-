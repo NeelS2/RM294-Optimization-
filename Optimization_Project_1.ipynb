{
 "cells": [
  {
   "cell_type": "markdown",
   "metadata": {
    "id": "AVCrKPWRg3zc"
   },
   "source": [
    "Optimization Project-I (non-finance)\n",
    "\n",
    "Soumya Agrawal (SA55638)\n",
    "\n",
    "Tanvi Dalal (TRD878)\n",
    "\n",
    "Bruce Kim (BSK674)\n",
    "\n",
    "Neel Sheth (nds967)"
   ]
  },
  {
   "cell_type": "code",
   "execution_count": 1,
   "metadata": {
    "colab": {
     "base_uri": "https://localhost:8080/"
    },
    "id": "JwVSfr_og_5b",
    "outputId": "1885dc99-b5d2-4d35-dfbb-3e493db09fbb"
   },
   "outputs": [],
   "source": [
    "#importing libraries\n",
    "#!python -m pip install gurobipy\n",
    "import pandas as pd\n",
    "import numpy as np\n",
    "import gurobipy as gp\n",
    "import matplotlib.pyplot as plt"
   ]
  },
  {
   "cell_type": "code",
   "execution_count": 2,
   "metadata": {
    "colab": {
     "base_uri": "https://localhost:8080/",
     "height": 145
    },
    "id": "P0CTVfRohjdF",
    "outputId": "e160fcd7-3e30-4393-ccca-f85bb712af7c"
   },
   "outputs": [],
   "source": [
    "#upload files from local drive\n",
    "\n",
    "# from google.colab import files\n",
    "# uploaded = files.upload()"
   ]
  },
  {
   "cell_type": "code",
   "execution_count": 3,
   "metadata": {
    "id": "63CGe9c5h-It"
   },
   "outputs": [],
   "source": [
    "#reading all the csv files\n",
    "roi_mat=pd.read_csv('roi_mat.csv', index_col=0)/100\n",
    "roi_data=pd.read_csv('ROI_data.csv')\n",
    "roi_data.set_index('Platform', inplace = True)"
   ]
  },
  {
   "cell_type": "code",
   "execution_count": 4,
   "metadata": {
    "colab": {
     "base_uri": "https://localhost:8080/",
     "height": 143
    },
    "id": "KufIMPVRiYuP",
    "outputId": "9b332f54-2057-4298-e08f-60bae6cb6213"
   },
   "outputs": [
    {
     "data": {
      "text/html": [
       "<div>\n",
       "<style scoped>\n",
       "    .dataframe tbody tr th:only-of-type {\n",
       "        vertical-align: middle;\n",
       "    }\n",
       "\n",
       "    .dataframe tbody tr th {\n",
       "        vertical-align: top;\n",
       "    }\n",
       "\n",
       "    .dataframe thead th {\n",
       "        text-align: right;\n",
       "    }\n",
       "</style>\n",
       "<table border=\"1\" class=\"dataframe\">\n",
       "  <thead>\n",
       "    <tr style=\"text-align: right;\">\n",
       "      <th></th>\n",
       "      <th>Print</th>\n",
       "      <th>TV</th>\n",
       "      <th>SEO</th>\n",
       "      <th>AdWords</th>\n",
       "      <th>Facebook</th>\n",
       "      <th>LinkedIn</th>\n",
       "      <th>Instagram</th>\n",
       "      <th>Snapchat</th>\n",
       "      <th>Twitter</th>\n",
       "      <th>Email</th>\n",
       "    </tr>\n",
       "    <tr>\n",
       "      <th>Platform</th>\n",
       "      <th></th>\n",
       "      <th></th>\n",
       "      <th></th>\n",
       "      <th></th>\n",
       "      <th></th>\n",
       "      <th></th>\n",
       "      <th></th>\n",
       "      <th></th>\n",
       "      <th></th>\n",
       "      <th></th>\n",
       "    </tr>\n",
       "  </thead>\n",
       "  <tbody>\n",
       "    <tr>\n",
       "      <th>ROI</th>\n",
       "      <td>0.031</td>\n",
       "      <td>0.049</td>\n",
       "      <td>0.024</td>\n",
       "      <td>0.039</td>\n",
       "      <td>0.016</td>\n",
       "      <td>0.024</td>\n",
       "      <td>0.046</td>\n",
       "      <td>0.026</td>\n",
       "      <td>0.033</td>\n",
       "      <td>0.044</td>\n",
       "    </tr>\n",
       "    <tr>\n",
       "      <th>Second Firms ROI Estimate</th>\n",
       "      <td>0.049</td>\n",
       "      <td>0.023</td>\n",
       "      <td>0.024</td>\n",
       "      <td>0.039</td>\n",
       "      <td>0.044</td>\n",
       "      <td>0.046</td>\n",
       "      <td>0.026</td>\n",
       "      <td>0.019</td>\n",
       "      <td>0.037</td>\n",
       "      <td>0.026</td>\n",
       "    </tr>\n",
       "  </tbody>\n",
       "</table>\n",
       "</div>"
      ],
      "text/plain": [
       "                           Print     TV    SEO  AdWords  Facebook  LinkedIn  \\\n",
       "Platform                                                                      \n",
       "ROI                        0.031  0.049  0.024    0.039     0.016     0.024   \n",
       "Second Firms ROI Estimate  0.049  0.023  0.024    0.039     0.044     0.046   \n",
       "\n",
       "                           Instagram  Snapchat  Twitter  Email  \n",
       "Platform                                                        \n",
       "ROI                            0.046     0.026    0.033  0.044  \n",
       "Second Firms ROI Estimate      0.026     0.019    0.037  0.026  "
      ]
     },
     "execution_count": 4,
     "metadata": {},
     "output_type": "execute_result"
    }
   ],
   "source": [
    "roi_data\n"
   ]
  },
  {
   "cell_type": "code",
   "execution_count": 5,
   "metadata": {
    "colab": {
     "base_uri": "https://localhost:8080/",
     "height": 426
    },
    "id": "Nyo-UkbFibif",
    "outputId": "38ae8090-6b97-4827-c208-4dffa51ff273"
   },
   "outputs": [
    {
     "data": {
      "text/html": [
       "<div>\n",
       "<style scoped>\n",
       "    .dataframe tbody tr th:only-of-type {\n",
       "        vertical-align: middle;\n",
       "    }\n",
       "\n",
       "    .dataframe tbody tr th {\n",
       "        vertical-align: top;\n",
       "    }\n",
       "\n",
       "    .dataframe thead th {\n",
       "        text-align: right;\n",
       "    }\n",
       "</style>\n",
       "<table border=\"1\" class=\"dataframe\">\n",
       "  <thead>\n",
       "    <tr style=\"text-align: right;\">\n",
       "      <th></th>\n",
       "      <th>Print</th>\n",
       "      <th>TV</th>\n",
       "      <th>SEO</th>\n",
       "      <th>AdWords</th>\n",
       "      <th>Facebook</th>\n",
       "      <th>LinkedIn</th>\n",
       "      <th>Instagram</th>\n",
       "      <th>Snapchat</th>\n",
       "      <th>Twitter</th>\n",
       "      <th>Email</th>\n",
       "    </tr>\n",
       "  </thead>\n",
       "  <tbody>\n",
       "    <tr>\n",
       "      <th>January</th>\n",
       "      <td>0.040</td>\n",
       "      <td>0.036</td>\n",
       "      <td>0.024</td>\n",
       "      <td>0.039</td>\n",
       "      <td>0.030</td>\n",
       "      <td>0.035</td>\n",
       "      <td>0.036</td>\n",
       "      <td>0.0225</td>\n",
       "      <td>0.035</td>\n",
       "      <td>0.035</td>\n",
       "    </tr>\n",
       "    <tr>\n",
       "      <th>February</th>\n",
       "      <td>0.040</td>\n",
       "      <td>0.039</td>\n",
       "      <td>0.027</td>\n",
       "      <td>0.038</td>\n",
       "      <td>0.043</td>\n",
       "      <td>0.032</td>\n",
       "      <td>0.027</td>\n",
       "      <td>0.0180</td>\n",
       "      <td>0.037</td>\n",
       "      <td>0.035</td>\n",
       "    </tr>\n",
       "    <tr>\n",
       "      <th>March</th>\n",
       "      <td>0.035</td>\n",
       "      <td>0.029</td>\n",
       "      <td>0.031</td>\n",
       "      <td>0.038</td>\n",
       "      <td>0.024</td>\n",
       "      <td>0.041</td>\n",
       "      <td>0.037</td>\n",
       "      <td>0.0260</td>\n",
       "      <td>0.042</td>\n",
       "      <td>0.025</td>\n",
       "    </tr>\n",
       "    <tr>\n",
       "      <th>April</th>\n",
       "      <td>0.038</td>\n",
       "      <td>0.031</td>\n",
       "      <td>0.024</td>\n",
       "      <td>0.044</td>\n",
       "      <td>0.024</td>\n",
       "      <td>0.038</td>\n",
       "      <td>0.037</td>\n",
       "      <td>0.0250</td>\n",
       "      <td>0.036</td>\n",
       "      <td>0.029</td>\n",
       "    </tr>\n",
       "    <tr>\n",
       "      <th>May</th>\n",
       "      <td>0.035</td>\n",
       "      <td>0.032</td>\n",
       "      <td>0.019</td>\n",
       "      <td>0.034</td>\n",
       "      <td>0.027</td>\n",
       "      <td>0.027</td>\n",
       "      <td>0.039</td>\n",
       "      <td>0.0220</td>\n",
       "      <td>0.045</td>\n",
       "      <td>0.039</td>\n",
       "    </tr>\n",
       "    <tr>\n",
       "      <th>June</th>\n",
       "      <td>0.040</td>\n",
       "      <td>0.032</td>\n",
       "      <td>0.027</td>\n",
       "      <td>0.034</td>\n",
       "      <td>0.034</td>\n",
       "      <td>0.030</td>\n",
       "      <td>0.045</td>\n",
       "      <td>0.0210</td>\n",
       "      <td>0.038</td>\n",
       "      <td>0.041</td>\n",
       "    </tr>\n",
       "    <tr>\n",
       "      <th>July</th>\n",
       "      <td>0.039</td>\n",
       "      <td>0.036</td>\n",
       "      <td>0.020</td>\n",
       "      <td>0.044</td>\n",
       "      <td>0.039</td>\n",
       "      <td>0.037</td>\n",
       "      <td>0.043</td>\n",
       "      <td>0.0180</td>\n",
       "      <td>0.040</td>\n",
       "      <td>0.038</td>\n",
       "    </tr>\n",
       "    <tr>\n",
       "      <th>August</th>\n",
       "      <td>0.042</td>\n",
       "      <td>0.033</td>\n",
       "      <td>0.028</td>\n",
       "      <td>0.042</td>\n",
       "      <td>0.020</td>\n",
       "      <td>0.037</td>\n",
       "      <td>0.036</td>\n",
       "      <td>0.0150</td>\n",
       "      <td>0.044</td>\n",
       "      <td>0.043</td>\n",
       "    </tr>\n",
       "    <tr>\n",
       "      <th>September</th>\n",
       "      <td>0.041</td>\n",
       "      <td>0.028</td>\n",
       "      <td>0.025</td>\n",
       "      <td>0.042</td>\n",
       "      <td>0.029</td>\n",
       "      <td>0.037</td>\n",
       "      <td>0.028</td>\n",
       "      <td>0.0250</td>\n",
       "      <td>0.040</td>\n",
       "      <td>0.034</td>\n",
       "    </tr>\n",
       "    <tr>\n",
       "      <th>October</th>\n",
       "      <td>0.030</td>\n",
       "      <td>0.030</td>\n",
       "      <td>0.031</td>\n",
       "      <td>0.046</td>\n",
       "      <td>0.031</td>\n",
       "      <td>0.033</td>\n",
       "      <td>0.032</td>\n",
       "      <td>0.0230</td>\n",
       "      <td>0.025</td>\n",
       "      <td>0.032</td>\n",
       "    </tr>\n",
       "    <tr>\n",
       "      <th>November</th>\n",
       "      <td>0.048</td>\n",
       "      <td>0.033</td>\n",
       "      <td>0.027</td>\n",
       "      <td>0.041</td>\n",
       "      <td>0.029</td>\n",
       "      <td>0.036</td>\n",
       "      <td>0.042</td>\n",
       "      <td>0.0300</td>\n",
       "      <td>0.031</td>\n",
       "      <td>0.041</td>\n",
       "    </tr>\n",
       "    <tr>\n",
       "      <th>December</th>\n",
       "      <td>0.048</td>\n",
       "      <td>0.040</td>\n",
       "      <td>0.019</td>\n",
       "      <td>0.037</td>\n",
       "      <td>0.042</td>\n",
       "      <td>0.036</td>\n",
       "      <td>0.026</td>\n",
       "      <td>0.0290</td>\n",
       "      <td>0.036</td>\n",
       "      <td>0.037</td>\n",
       "    </tr>\n",
       "  </tbody>\n",
       "</table>\n",
       "</div>"
      ],
      "text/plain": [
       "           Print     TV    SEO  AdWords  Facebook  LinkedIn  Instagram  \\\n",
       "January    0.040  0.036  0.024    0.039     0.030     0.035      0.036   \n",
       "February   0.040  0.039  0.027    0.038     0.043     0.032      0.027   \n",
       "March      0.035  0.029  0.031    0.038     0.024     0.041      0.037   \n",
       "April      0.038  0.031  0.024    0.044     0.024     0.038      0.037   \n",
       "May        0.035  0.032  0.019    0.034     0.027     0.027      0.039   \n",
       "June       0.040  0.032  0.027    0.034     0.034     0.030      0.045   \n",
       "July       0.039  0.036  0.020    0.044     0.039     0.037      0.043   \n",
       "August     0.042  0.033  0.028    0.042     0.020     0.037      0.036   \n",
       "September  0.041  0.028  0.025    0.042     0.029     0.037      0.028   \n",
       "October    0.030  0.030  0.031    0.046     0.031     0.033      0.032   \n",
       "November   0.048  0.033  0.027    0.041     0.029     0.036      0.042   \n",
       "December   0.048  0.040  0.019    0.037     0.042     0.036      0.026   \n",
       "\n",
       "           Snapchat  Twitter  Email  \n",
       "January      0.0225    0.035  0.035  \n",
       "February     0.0180    0.037  0.035  \n",
       "March        0.0260    0.042  0.025  \n",
       "April        0.0250    0.036  0.029  \n",
       "May          0.0220    0.045  0.039  \n",
       "June         0.0210    0.038  0.041  \n",
       "July         0.0180    0.040  0.038  \n",
       "August       0.0150    0.044  0.043  \n",
       "September    0.0250    0.040  0.034  \n",
       "October      0.0230    0.025  0.032  \n",
       "November     0.0300    0.031  0.041  \n",
       "December     0.0290    0.036  0.037  "
      ]
     },
     "execution_count": 5,
     "metadata": {},
     "output_type": "execute_result"
    }
   ],
   "source": [
    "roi_mat"
   ]
  },
  {
   "cell_type": "markdown",
   "metadata": {
    "id": "PkCZ-lYHpTLo"
   },
   "source": [
    "## 3rd Question\n",
    "\n",
    "Formulate the marketing budget allocation problem as a linear program. Use gurobi to find the\n",
    "optimal budget allocation."
   ]
  },
  {
   "cell_type": "code",
   "execution_count": 6,
   "metadata": {
    "id": "Rldn1W5fjHIS"
   },
   "outputs": [],
   "source": [
    "#creating the objective function for the first consulting firm\n",
    "obj = np.array(roi_data.loc['ROI'].tolist())"
   ]
  },
  {
   "cell_type": "code",
   "execution_count": 7,
   "metadata": {
    "id": "firANwr1kBYH"
   },
   "outputs": [],
   "source": [
    "#constraint matrix\n",
    "A = np.zeros((13,10))\n",
    "A[0,:] = [0,0,-2,-2,1,1,1,1,1,0]    #Total budget for Social media should be atleast twice of the budget for SEO and adword \n",
    "A[1,:] = [1,1,0,0,-1,0,0,0,0,-1]    #Budget for print and TV combined should not be more than combined budget for facebook and email\n",
    "A[2,:] = [1,1,1,1,1,1,1,1,1,1]      #Total budget should be less than or equal to 10 million USD\n",
    "A[3:,:] = np.diag(np.ones(10))      #budget for all mediums should be less than or equal to 3 million USD\n",
    "b = np.array([0,0,10000000,3000000,3000000,3000000,3000000,3000000,3000000,3000000,3000000,3000000,3000000])\n",
    "sense = np.array(['>','<','<','<','<','<','<','<','<','<','<','<','<'])"
   ]
  },
  {
   "cell_type": "code",
   "execution_count": 8,
   "metadata": {
    "colab": {
     "base_uri": "https://localhost:8080/"
    },
    "id": "qZ1Ge6SjmXlc",
    "outputId": "d8c02045-cf18-49a7-af21-4e83327c92aa"
   },
   "outputs": [
    {
     "name": "stdout",
     "output_type": "stream",
     "text": [
      "Set parameter Username\n",
      "Academic license - for non-commercial use only - expires 2023-08-19\n"
     ]
    }
   ],
   "source": [
    "# gurobi\n",
    "marketingModel = gp.Model() \n",
    "\n",
    "marketingModX = marketingModel.addMVar(10) \n",
    "marketingModCon = marketingModel.addMConstrs(A, marketingModX, sense, b) \n",
    "marketingModel.setMObjective(None,obj,0,sense=gp.GRB.MAXIMIZE) \n",
    "\n",
    "marketingModel.Params.OutputFlag = 0 \n",
    "marketingModel.optimize()"
   ]
  },
  {
   "cell_type": "code",
   "execution_count": 9,
   "metadata": {
    "colab": {
     "base_uri": "https://localhost:8080/"
    },
    "id": "A2w6kNsJoZ6-",
    "outputId": "2fbbd853-1cba-46e9-ca7e-9797275c2df8"
   },
   "outputs": [
    {
     "data": {
      "text/plain": [
       "[0.0, 3000000.0, 0.0, 1000000.0, 0.0, 0.0, 3000000.0, 0.0, 0.0, 3000000.0]"
      ]
     },
     "execution_count": 9,
     "metadata": {},
     "output_type": "execute_result"
    }
   ],
   "source": [
    "marketingModel.x"
   ]
  },
  {
   "cell_type": "code",
   "execution_count": 10,
   "metadata": {
    "colab": {
     "base_uri": "https://localhost:8080/"
    },
    "id": "mYw9B1t4on1l",
    "outputId": "026658ed-42c8-4e2f-c769-2f2e8260a678"
   },
   "outputs": [
    {
     "data": {
      "text/plain": [
       "456000.0"
      ]
     },
     "execution_count": 10,
     "metadata": {},
     "output_type": "execute_result"
    }
   ],
   "source": [
    "marketingModel.objval"
   ]
  },
  {
   "cell_type": "code",
   "execution_count": 11,
   "metadata": {
    "id": "P4N05T_0mzGQ"
   },
   "outputs": [],
   "source": [
    "df = pd.DataFrame(columns = roi_data.columns.values.tolist() + ['Optimal'])\n",
    "df.loc['First Consulting Firm'] = marketingModel.x + [marketingModel.objval]"
   ]
  },
  {
   "cell_type": "code",
   "execution_count": 12,
   "metadata": {
    "colab": {
     "base_uri": "https://localhost:8080/",
     "height": 99
    },
    "id": "gV8JcNeBm0G1",
    "outputId": "d8090099-c85c-49bb-de6f-17679b0e81ff"
   },
   "outputs": [
    {
     "name": "stdout",
     "output_type": "stream",
     "text": [
      "The budget allocation for each medium and the optimal ROI is\n"
     ]
    },
    {
     "data": {
      "text/html": [
       "<div>\n",
       "<style scoped>\n",
       "    .dataframe tbody tr th:only-of-type {\n",
       "        vertical-align: middle;\n",
       "    }\n",
       "\n",
       "    .dataframe tbody tr th {\n",
       "        vertical-align: top;\n",
       "    }\n",
       "\n",
       "    .dataframe thead th {\n",
       "        text-align: right;\n",
       "    }\n",
       "</style>\n",
       "<table border=\"1\" class=\"dataframe\">\n",
       "  <thead>\n",
       "    <tr style=\"text-align: right;\">\n",
       "      <th></th>\n",
       "      <th>Print</th>\n",
       "      <th>TV</th>\n",
       "      <th>SEO</th>\n",
       "      <th>AdWords</th>\n",
       "      <th>Facebook</th>\n",
       "      <th>LinkedIn</th>\n",
       "      <th>Instagram</th>\n",
       "      <th>Snapchat</th>\n",
       "      <th>Twitter</th>\n",
       "      <th>Email</th>\n",
       "      <th>Optimal</th>\n",
       "    </tr>\n",
       "  </thead>\n",
       "  <tbody>\n",
       "    <tr>\n",
       "      <th>First Consulting Firm</th>\n",
       "      <td>0.0</td>\n",
       "      <td>3000000.0</td>\n",
       "      <td>0.0</td>\n",
       "      <td>1000000.0</td>\n",
       "      <td>0.0</td>\n",
       "      <td>0.0</td>\n",
       "      <td>3000000.0</td>\n",
       "      <td>0.0</td>\n",
       "      <td>0.0</td>\n",
       "      <td>3000000.0</td>\n",
       "      <td>456000.0</td>\n",
       "    </tr>\n",
       "  </tbody>\n",
       "</table>\n",
       "</div>"
      ],
      "text/plain": [
       "                       Print         TV  SEO    AdWords  Facebook  LinkedIn  \\\n",
       "First Consulting Firm    0.0  3000000.0  0.0  1000000.0       0.0       0.0   \n",
       "\n",
       "                       Instagram  Snapchat  Twitter      Email   Optimal  \n",
       "First Consulting Firm  3000000.0       0.0      0.0  3000000.0  456000.0  "
      ]
     },
     "execution_count": 12,
     "metadata": {},
     "output_type": "execute_result"
    }
   ],
   "source": [
    "print(\"The budget allocation for each medium and the optimal ROI is\")\n",
    "df"
   ]
  },
  {
   "cell_type": "markdown",
   "metadata": {
    "id": "9k9tK2WPpK8E"
   },
   "source": [
    "## 4th Question\n",
    "\n",
    "Your boss is happy to see the promising results presented by the marketing department.\n",
    "However, your boss is also very concerned because your boss recalls being somewhat\n",
    "disappointed after following such recommendations in the past. To be cautious about the\n",
    "decision, your team has decided to get another opinion about the ROI data and rerun the\n",
    "analysis. The second consulting firm returns the estimates of the ROI data in the table below\n",
    "(also in the CSV file mentioned above). You are asked to compare the two optimal allocations\n",
    "from these two ROI estimates."
   ]
  },
  {
   "cell_type": "code",
   "execution_count": 13,
   "metadata": {
    "id": "jKvEmmKQpPFi"
   },
   "outputs": [],
   "source": [
    "#creating the objective function for the second consulting firm\n",
    "obj = np.array(roi_data.loc['Second Firms ROI Estimate'].tolist())"
   ]
  },
  {
   "cell_type": "code",
   "execution_count": 14,
   "metadata": {
    "id": "9X0-3PiTpezt"
   },
   "outputs": [],
   "source": [
    "#constraint matrix\n",
    "A = np.zeros((13,10))\n",
    "A[0,:] = [0,0,-2,-2,1,1,1,1,1,0]    #Total budget for Social media should be atleast twice of the budget for SEO and adword \n",
    "A[1,:] = [1,1,0,0,-1,0,0,0,0,-1]    #Budget for print and TV combined should not be more than combined budget for facebook and email\n",
    "A[2,:] = [1,1,1,1,1,1,1,1,1,1]      #Total budget should be less than or equal to 10 million USD\n",
    "A[3:,:] = np.diag(np.ones(10))      #budget for all mediums should be less than or equal to 3 million USD\n",
    "b = np.array([0,0,10000000,3000000,3000000,3000000,3000000,3000000,3000000,3000000,3000000,3000000,3000000])\n",
    "sense = np.array(['>','<','<','<','<','<','<','<','<','<','<','<','<'])"
   ]
  },
  {
   "cell_type": "code",
   "execution_count": 15,
   "metadata": {
    "id": "5PegxmfBpq9U"
   },
   "outputs": [],
   "source": [
    "# gurobi\n",
    "marketingModel = gp.Model() \n",
    "\n",
    "marketingModX = marketingModel.addMVar(10) \n",
    "marketingModCon = marketingModel.addMConstrs(A, marketingModX, sense, b) \n",
    "marketingModel.setMObjective(None,obj,0,sense=gp.GRB.MAXIMIZE) \n",
    "\n",
    "marketingModel.Params.OutputFlag = 0 \n",
    "marketingModel.optimize()"
   ]
  },
  {
   "cell_type": "code",
   "execution_count": 16,
   "metadata": {
    "colab": {
     "base_uri": "https://localhost:8080/"
    },
    "id": "euuCWALUpxEv",
    "outputId": "3861d11c-c3dc-4281-95d4-7482c7677da5"
   },
   "outputs": [
    {
     "data": {
      "text/plain": [
       "[3000000.0, 0.0, 0.0, 1000000.0, 3000000.0, 3000000.0, 0.0, 0.0, 0.0, 0.0]"
      ]
     },
     "execution_count": 16,
     "metadata": {},
     "output_type": "execute_result"
    }
   ],
   "source": [
    "marketingModel.x"
   ]
  },
  {
   "cell_type": "code",
   "execution_count": 17,
   "metadata": {
    "colab": {
     "base_uri": "https://localhost:8080/"
    },
    "id": "_Q3uVK8Pp2yk",
    "outputId": "9942516e-212b-4548-ba7b-26aa9d28dff3"
   },
   "outputs": [
    {
     "data": {
      "text/plain": [
       "456000.0"
      ]
     },
     "execution_count": 17,
     "metadata": {},
     "output_type": "execute_result"
    }
   ],
   "source": [
    "marketingModel.objval"
   ]
  },
  {
   "cell_type": "code",
   "execution_count": 18,
   "metadata": {
    "id": "_bZpILbUp8V8"
   },
   "outputs": [],
   "source": [
    "df.loc['Second Consulting Firm'] = marketingModel.x + [marketingModel.objval]"
   ]
  },
  {
   "cell_type": "code",
   "execution_count": 19,
   "metadata": {
    "colab": {
     "base_uri": "https://localhost:8080/",
     "height": 130
    },
    "id": "KDoMVgXmqNJV",
    "outputId": "7708ff08-1a74-48fe-ffa9-0923fce41003"
   },
   "outputs": [
    {
     "name": "stdout",
     "output_type": "stream",
     "text": [
      "The budget allocation for each medium and the optimal ROI as per the first consulting firm and second consulting firm is\n"
     ]
    },
    {
     "data": {
      "text/html": [
       "<div>\n",
       "<style scoped>\n",
       "    .dataframe tbody tr th:only-of-type {\n",
       "        vertical-align: middle;\n",
       "    }\n",
       "\n",
       "    .dataframe tbody tr th {\n",
       "        vertical-align: top;\n",
       "    }\n",
       "\n",
       "    .dataframe thead th {\n",
       "        text-align: right;\n",
       "    }\n",
       "</style>\n",
       "<table border=\"1\" class=\"dataframe\">\n",
       "  <thead>\n",
       "    <tr style=\"text-align: right;\">\n",
       "      <th></th>\n",
       "      <th>Print</th>\n",
       "      <th>TV</th>\n",
       "      <th>SEO</th>\n",
       "      <th>AdWords</th>\n",
       "      <th>Facebook</th>\n",
       "      <th>LinkedIn</th>\n",
       "      <th>Instagram</th>\n",
       "      <th>Snapchat</th>\n",
       "      <th>Twitter</th>\n",
       "      <th>Email</th>\n",
       "      <th>Optimal</th>\n",
       "    </tr>\n",
       "  </thead>\n",
       "  <tbody>\n",
       "    <tr>\n",
       "      <th>First Consulting Firm</th>\n",
       "      <td>0.0</td>\n",
       "      <td>3000000.0</td>\n",
       "      <td>0.0</td>\n",
       "      <td>1000000.0</td>\n",
       "      <td>0.0</td>\n",
       "      <td>0.0</td>\n",
       "      <td>3000000.0</td>\n",
       "      <td>0.0</td>\n",
       "      <td>0.0</td>\n",
       "      <td>3000000.0</td>\n",
       "      <td>456000.0</td>\n",
       "    </tr>\n",
       "    <tr>\n",
       "      <th>Second Consulting Firm</th>\n",
       "      <td>3000000.0</td>\n",
       "      <td>0.0</td>\n",
       "      <td>0.0</td>\n",
       "      <td>1000000.0</td>\n",
       "      <td>3000000.0</td>\n",
       "      <td>3000000.0</td>\n",
       "      <td>0.0</td>\n",
       "      <td>0.0</td>\n",
       "      <td>0.0</td>\n",
       "      <td>0.0</td>\n",
       "      <td>456000.0</td>\n",
       "    </tr>\n",
       "  </tbody>\n",
       "</table>\n",
       "</div>"
      ],
      "text/plain": [
       "                            Print         TV  SEO    AdWords   Facebook  \\\n",
       "First Consulting Firm         0.0  3000000.0  0.0  1000000.0        0.0   \n",
       "Second Consulting Firm  3000000.0        0.0  0.0  1000000.0  3000000.0   \n",
       "\n",
       "                         LinkedIn  Instagram  Snapchat  Twitter      Email  \\\n",
       "First Consulting Firm         0.0  3000000.0       0.0      0.0  3000000.0   \n",
       "Second Consulting Firm  3000000.0        0.0       0.0      0.0        0.0   \n",
       "\n",
       "                         Optimal  \n",
       "First Consulting Firm   456000.0  \n",
       "Second Consulting Firm  456000.0  "
      ]
     },
     "execution_count": 19,
     "metadata": {},
     "output_type": "execute_result"
    }
   ],
   "source": [
    "print(\"The budget allocation for each medium and the optimal ROI as per the first consulting firm and second consulting firm is\")\n",
    "df"
   ]
  },
  {
   "cell_type": "code",
   "execution_count": 20,
   "metadata": {
    "colab": {
     "base_uri": "https://localhost:8080/",
     "height": 427
    },
    "id": "HUIh_6zv6TJn",
    "outputId": "1257aa87-9152-4727-8774-67b5de8d0d28"
   },
   "outputs": [
    {
     "data": {
      "image/png": "[encoded data removed]",
      "text/plain": [
       "<Figure size 720x504 with 1 Axes>"
      ]
     },
     "metadata": {},
     "output_type": "display_data"
    }
   ],
   "source": [
    "dic = dict()\n",
    "for j in range(len(df.columns)-1):\n",
    "    if df.iloc[0,j] != 0:\n",
    "        dic[df.columns[j]] = df.iloc[0,j]\n",
    "\n",
    "fig = plt.figure(figsize =(10, 7))\n",
    "plt.pie(dic.values(), labels = dic.keys(), autopct='%.1f%%')\n",
    "plt.title(df.index[0])\n",
    "\n",
    "plt.show()"
   ]
  },
  {
   "cell_type": "code",
   "execution_count": 21,
   "metadata": {
    "colab": {
     "base_uri": "https://localhost:8080/",
     "height": 427
    },
    "id": "BL_wdqVLy9hR",
    "outputId": "867bb8f4-3e45-4046-cb75-f3083715b2d5"
   },
   "outputs": [
    {
     "data": {
      "image/png": "[encoded data removed]",
      "text/plain": [
       "<Figure size 720x504 with 1 Axes>"
      ]
     },
     "metadata": {},
     "output_type": "display_data"
    }
   ],
   "source": [
    "dic = dict()\n",
    "for j in range(len(df.columns)-1):\n",
    "    if df.iloc[1,j] != 0:\n",
    "        dic[df.columns[j]] = df.iloc[1,j]\n",
    "\n",
    "fig = plt.figure(figsize =(10, 7))\n",
    "plt.pie(dic.values(), labels = dic.keys(), autopct='%.1f%%')\n",
    "plt.title(df.index[1])\n",
    "\n",
    "plt.show()"
   ]
  },
  {
   "cell_type": "markdown",
   "metadata": {
    "id": "gb1Z30m9wk8A"
   },
   "source": [
    "## 5th Question\n",
    "\n",
    "Are the allocations the same? Assuming the first ROI data is correct, if you were to use the second allocation (the allocation that assumed the second ROI data was correct) how much lower would the objective be relative to the optimal objective (the one that uses the first ROI data and the first allocation)? Assuming the second ROI data is correct, if you used the first\n",
    "allocation how much lower would the objective be relative to the optimal objective? Do you think the third constraint above, based on your boss’ experience, is useful?"
   ]
  },
  {
   "cell_type": "code",
   "execution_count": 22,
   "metadata": {
    "colab": {
     "base_uri": "https://localhost:8080/"
    },
    "id": "YAMMhA656zXQ",
    "outputId": "ba0d8908-2f9a-40da-944c-3bb81e5e1493"
   },
   "outputs": [
    {
     "name": "stdout",
     "output_type": "stream",
     "text": [
      "Assuming the first ROI data is correct, if we were to use the second allocation, the objective relative to the optimal objective would lower by: 204000.0\n"
     ]
    }
   ],
   "source": [
    "CASE_1= df.loc['First Consulting Firm','Optimal'] - np.array(roi_data.loc['ROI'].tolist()) @ np.array(df.iloc[1,:-1].tolist())\n",
    "print(\"Assuming the first ROI data is correct, if we were to use the second allocation, the objective relative to the optimal objective would lower by: \" + str(CASE_1))"
   ]
  },
  {
   "cell_type": "code",
   "execution_count": 23,
   "metadata": {
    "colab": {
     "base_uri": "https://localhost:8080/"
    },
    "id": "DDzXY7fb-lJ-",
    "outputId": "905af5a5-2dd8-49f4-c4b9-11a29c547f90"
   },
   "outputs": [
    {
     "name": "stdout",
     "output_type": "stream",
     "text": [
      "Assuming the second ROI data is correct, if we were to use the first allocation, the objective relative to the optimal objective would lower by: 192000.0\n"
     ]
    }
   ],
   "source": [
    "CASE_2= df.loc['Second Consulting Firm','Optimal'] - np.array(roi_data.loc['Second Firms ROI Estimate'].tolist()) @ np.array(df.iloc[0,:-1].tolist())\n",
    "print(\"Assuming the second ROI data is correct, if we were to use the first allocation, the objective relative to the optimal objective would lower by: \" + str(CASE_2))"
   ]
  },
  {
   "cell_type": "code",
   "execution_count": 24,
   "metadata": {
    "id": "IM5KA47Ix0xi"
   },
   "outputs": [],
   "source": [
    "#creating the objective function for the first consulting firm\n",
    "obj = np.array(roi_data.loc['ROI'].tolist())"
   ]
  },
  {
   "cell_type": "code",
   "execution_count": 25,
   "metadata": {
    "id": "c3jN4kHywuwp"
   },
   "outputs": [],
   "source": [
    "#constraint matrix - removing the third constraint\n",
    "A = np.zeros((3,10))\n",
    "A[0,:] = [0,0,-2,-2,1,1,1,1,1,0]    #Total budget for Social media should be atleast twice of the budget for SEO and adword \n",
    "A[1,:] = [1,1,0,0,-1,0,0,0,0,-1]    #Budget for print and TV combined should not be more than combined budget for facebook and email\n",
    "A[2,:] = [1,1,1,1,1,1,1,1,1,1]      #Total budget should be less than or equal to 10 million USD\n",
    "b = np.array([0,0,10000000])\n",
    "sense = np.array(['>','<','<'])"
   ]
  },
  {
   "cell_type": "code",
   "execution_count": 26,
   "metadata": {
    "id": "NH47zjzDxTX1"
   },
   "outputs": [],
   "source": [
    "# gurobi\n",
    "marketingModel = gp.Model() \n",
    "\n",
    "marketingModX = marketingModel.addMVar(10) \n",
    "marketingModCon = marketingModel.addMConstrs(A, marketingModX, sense, b) \n",
    "marketingModel.setMObjective(None,obj,0,sense=gp.GRB.MAXIMIZE) \n",
    "\n",
    "marketingModel.Params.OutputFlag = 0 \n",
    "marketingModel.optimize()"
   ]
  },
  {
   "cell_type": "code",
   "execution_count": 27,
   "metadata": {
    "colab": {
     "base_uri": "https://localhost:8080/"
    },
    "id": "3WYMAO6qxVHt",
    "outputId": "f3dc6cea-a00d-49db-b927-78aa9f670281"
   },
   "outputs": [
    {
     "data": {
      "text/plain": [
       "[0.0, 5000000.0, 0.0, 0.0, 0.0, 0.0, 0.0, 0.0, 0.0, 5000000.0]"
      ]
     },
     "execution_count": 27,
     "metadata": {},
     "output_type": "execute_result"
    }
   ],
   "source": [
    "marketingModel.x"
   ]
  },
  {
   "cell_type": "code",
   "execution_count": 28,
   "metadata": {
    "colab": {
     "base_uri": "https://localhost:8080/"
    },
    "id": "meHcwtzRxX_6",
    "outputId": "5a3c00d8-e4ab-49e4-bbcf-3b61cb867f31"
   },
   "outputs": [
    {
     "data": {
      "text/plain": [
       "465000.0"
      ]
     },
     "execution_count": 28,
     "metadata": {},
     "output_type": "execute_result"
    }
   ],
   "source": [
    "marketingModel.objval"
   ]
  },
  {
   "cell_type": "code",
   "execution_count": 29,
   "metadata": {
    "id": "AKPlax_QxgXE"
   },
   "outputs": [],
   "source": [
    "df1 = pd.DataFrame(columns = roi_data.columns.values.tolist() + ['Optimal'])\n",
    "df1.loc['First Consulting Firm'] = marketingModel.x + [marketingModel.objval]"
   ]
  },
  {
   "cell_type": "code",
   "execution_count": 30,
   "metadata": {
    "id": "eNVp6O9oxvW5"
   },
   "outputs": [],
   "source": [
    "#creating the objective function for the second consulting firm\n",
    "obj = np.array(roi_data.loc['Second Firms ROI Estimate'].tolist())"
   ]
  },
  {
   "cell_type": "code",
   "execution_count": 31,
   "metadata": {
    "id": "AI9sPY2OxoDT"
   },
   "outputs": [],
   "source": [
    "#constraint matrix\n",
    "A = np.zeros((3,10))\n",
    "A[0,:] = [0,0,-2,-2,1,1,1,1,1,0]    #Total budget for Social media should be atleast twice of the budget for SEO and adword \n",
    "A[1,:] = [1,1,0,0,-1,0,0,0,0,-1]    #Budget for print and TV combined should not be more than combined budget for facebook and email\n",
    "A[2,:] = [1,1,1,1,1,1,1,1,1,1]      #Total budget should be less than or equal to 10 million USD\n",
    "b = np.array([0,0,10000000])\n",
    "sense = np.array(['>','<','<'])"
   ]
  },
  {
   "cell_type": "code",
   "execution_count": 32,
   "metadata": {
    "id": "5fstGt8Gx5yd"
   },
   "outputs": [],
   "source": [
    "# gurobi\n",
    "marketingModel = gp.Model() \n",
    "\n",
    "marketingModX = marketingModel.addMVar(10) \n",
    "marketingModCon = marketingModel.addMConstrs(A, marketingModX, sense, b) \n",
    "marketingModel.setMObjective(None,obj,0,sense=gp.GRB.MAXIMIZE) \n",
    "\n",
    "marketingModel.Params.OutputFlag = 0 \n",
    "marketingModel.optimize()"
   ]
  },
  {
   "cell_type": "code",
   "execution_count": 33,
   "metadata": {
    "colab": {
     "base_uri": "https://localhost:8080/"
    },
    "id": "51ZttIS1x-KR",
    "outputId": "cd9ca491-15fb-416d-fe5b-07ab6dd502f9"
   },
   "outputs": [
    {
     "data": {
      "text/plain": [
       "[5000000.0, 0.0, 0.0, 0.0, 5000000.0, 0.0, 0.0, 0.0, 0.0, 0.0]"
      ]
     },
     "execution_count": 33,
     "metadata": {},
     "output_type": "execute_result"
    }
   ],
   "source": [
    "marketingModel.x"
   ]
  },
  {
   "cell_type": "code",
   "execution_count": 34,
   "metadata": {
    "colab": {
     "base_uri": "https://localhost:8080/"
    },
    "id": "WiHIZBkwx_Rg",
    "outputId": "f52b959e-0a4e-4553-cfba-2179460a93ba"
   },
   "outputs": [
    {
     "data": {
      "text/plain": [
       "465000.0"
      ]
     },
     "execution_count": 34,
     "metadata": {},
     "output_type": "execute_result"
    }
   ],
   "source": [
    "marketingModel.objval"
   ]
  },
  {
   "cell_type": "code",
   "execution_count": 35,
   "metadata": {
    "id": "uuTTD4-HyBy_"
   },
   "outputs": [],
   "source": [
    "df1.loc['Second Consulting Firm'] = marketingModel.x + [marketingModel.objval]"
   ]
  },
  {
   "cell_type": "code",
   "execution_count": 36,
   "metadata": {
    "colab": {
     "base_uri": "https://localhost:8080/",
     "height": 130
    },
    "id": "rG7obhZYyIA1",
    "outputId": "2f34065b-c53c-4ee0-b7d3-ce284f552bd4"
   },
   "outputs": [
    {
     "name": "stdout",
     "output_type": "stream",
     "text": [
      "The budget allocation for each medium and the optimal ROI as per the first consulting firm and second consulting firm if third constraint was ingnored is\n"
     ]
    },
    {
     "data": {
      "text/html": [
       "<div>\n",
       "<style scoped>\n",
       "    .dataframe tbody tr th:only-of-type {\n",
       "        vertical-align: middle;\n",
       "    }\n",
       "\n",
       "    .dataframe tbody tr th {\n",
       "        vertical-align: top;\n",
       "    }\n",
       "\n",
       "    .dataframe thead th {\n",
       "        text-align: right;\n",
       "    }\n",
       "</style>\n",
       "<table border=\"1\" class=\"dataframe\">\n",
       "  <thead>\n",
       "    <tr style=\"text-align: right;\">\n",
       "      <th></th>\n",
       "      <th>Print</th>\n",
       "      <th>TV</th>\n",
       "      <th>SEO</th>\n",
       "      <th>AdWords</th>\n",
       "      <th>Facebook</th>\n",
       "      <th>LinkedIn</th>\n",
       "      <th>Instagram</th>\n",
       "      <th>Snapchat</th>\n",
       "      <th>Twitter</th>\n",
       "      <th>Email</th>\n",
       "      <th>Optimal</th>\n",
       "    </tr>\n",
       "  </thead>\n",
       "  <tbody>\n",
       "    <tr>\n",
       "      <th>First Consulting Firm</th>\n",
       "      <td>0.0</td>\n",
       "      <td>5000000.0</td>\n",
       "      <td>0.0</td>\n",
       "      <td>0.0</td>\n",
       "      <td>0.0</td>\n",
       "      <td>0.0</td>\n",
       "      <td>0.0</td>\n",
       "      <td>0.0</td>\n",
       "      <td>0.0</td>\n",
       "      <td>5000000.0</td>\n",
       "      <td>465000.0</td>\n",
       "    </tr>\n",
       "    <tr>\n",
       "      <th>Second Consulting Firm</th>\n",
       "      <td>5000000.0</td>\n",
       "      <td>0.0</td>\n",
       "      <td>0.0</td>\n",
       "      <td>0.0</td>\n",
       "      <td>5000000.0</td>\n",
       "      <td>0.0</td>\n",
       "      <td>0.0</td>\n",
       "      <td>0.0</td>\n",
       "      <td>0.0</td>\n",
       "      <td>0.0</td>\n",
       "      <td>465000.0</td>\n",
       "    </tr>\n",
       "  </tbody>\n",
       "</table>\n",
       "</div>"
      ],
      "text/plain": [
       "                            Print         TV  SEO  AdWords   Facebook  \\\n",
       "First Consulting Firm         0.0  5000000.0  0.0      0.0        0.0   \n",
       "Second Consulting Firm  5000000.0        0.0  0.0      0.0  5000000.0   \n",
       "\n",
       "                        LinkedIn  Instagram  Snapchat  Twitter      Email  \\\n",
       "First Consulting Firm        0.0        0.0       0.0      0.0  5000000.0   \n",
       "Second Consulting Firm       0.0        0.0       0.0      0.0        0.0   \n",
       "\n",
       "                         Optimal  \n",
       "First Consulting Firm   465000.0  \n",
       "Second Consulting Firm  465000.0  "
      ]
     },
     "execution_count": 36,
     "metadata": {},
     "output_type": "execute_result"
    }
   ],
   "source": [
    "print(\"The budget allocation for each medium and the optimal ROI as per the first consulting firm and second consulting firm if third constraint was ingnored is\")\n",
    "df1"
   ]
  },
  {
   "cell_type": "code",
   "execution_count": 37,
   "metadata": {
    "colab": {
     "base_uri": "https://localhost:8080/",
     "height": 427
    },
    "id": "Lwzxq73fr_8N",
    "outputId": "944f1eda-7f08-4db0-a317-476f6398744b"
   },
   "outputs": [
    {
     "data": {
      "image/png": "[encoded data removed]",
      "text/plain": [
       "<Figure size 720x504 with 1 Axes>"
      ]
     },
     "metadata": {},
     "output_type": "display_data"
    }
   ],
   "source": [
    "dic = dict()\n",
    "for j in range(len(df1.columns)-1):\n",
    "    if df1.iloc[0,j] != 0:\n",
    "        dic[df1.columns[j]] = df1.iloc[0,j]\n",
    "\n",
    "        \n",
    "fig = plt.figure(figsize =(10, 7))\n",
    "plt.pie(dic.values(), labels = dic.keys(), autopct='%.1f%%')\n",
    "plt.title(df.index[0]+\" w/o constraint C\")\n",
    "\n",
    "plt.show()"
   ]
  },
  {
   "cell_type": "code",
   "execution_count": 38,
   "metadata": {
    "colab": {
     "base_uri": "https://localhost:8080/",
     "height": 427
    },
    "id": "DGn2nShxsAZG",
    "outputId": "db33ef4b-f1f8-4bcd-941b-2cc6f8981ab7"
   },
   "outputs": [
    {
     "data": {
      "image/png": "[encoded data removed]",
      "text/plain": [
       "<Figure size 720x504 with 1 Axes>"
      ]
     },
     "metadata": {},
     "output_type": "display_data"
    }
   ],
   "source": [
    "dic = dict()\n",
    "for j in range(len(df1.columns)-1):\n",
    "    if df1.iloc[1,j] != 0:\n",
    "        dic[df1.columns[j]] = df1.iloc[1,j]\n",
    "  \n",
    "fig = plt.figure(figsize =(10, 7))\n",
    "plt.pie(dic.values(), labels = dic.keys(), autopct='%.1f%%')\n",
    "plt.title(df.index[1]+\" w/o constraint C\")\n",
    "\n",
    "plt.show()"
   ]
  },
  {
   "cell_type": "markdown",
   "metadata": {
    "id": "89DP57Tz_eXQ"
   },
   "source": [
    "## 6th Question\n",
    "\n",
    "To explore this, further perform some analysis of how your optimal allocation would change\n",
    "based on changes in the ROI data. Use the first ROI data as your starting point. By how much\n",
    "could each advertising medium’s ROI increase or decrease and still result in the same optimal\n",
    "allocation you found in step (3)?"
   ]
  },
  {
   "cell_type": "code",
   "execution_count": 39,
   "metadata": {
    "id": "qUa_2zI9zNuo"
   },
   "outputs": [],
   "source": [
    "# Codes from step (3)\n",
    "\n",
    "#creating the objective function for the first consulting firm\n",
    "obj = np.array(roi_data.loc['ROI'].tolist())\n",
    "\n",
    "#constraint matrix\n",
    "A = np.zeros((13,10))\n",
    "A[0,:] = [0,0,-2,-2,1,1,1,1,1,0]    #Total budget for Social media should be atleast twice of the budget for SEO and adword \n",
    "A[1,:] = [1,1,0,0,-1,0,0,0,0,-1]    #Budget for print and TV combined should not be more than combined budget for facebook and email\n",
    "A[2,:] = [1,1,1,1,1,1,1,1,1,1]      #Total budget should be less than or equal to 10 million USD\n",
    "A[3:,:] = np.diag(np.ones(10))      #budget for all mediums should be less than or equal to 3 million USD\n",
    "b = np.array([0,0,10000000,3000000,3000000,3000000,3000000,3000000,3000000,3000000,3000000,3000000,3000000])\n",
    "sense = np.array(['>','<','<','<','<','<','<','<','<','<','<','<','<'])\n",
    "\n",
    "# gurobi\n",
    "marketingModel = gp.Model() \n",
    "marketingModX = marketingModel.addMVar(10) \n",
    "marketingModCon = marketingModel.addMConstrs(A, marketingModX, sense, b) \n",
    "marketingModel.setMObjective(None,obj,0,sense=gp.GRB.MAXIMIZE) \n",
    "marketingModel.Params.OutputFlag = 0 \n",
    "marketingModel.optimize()"
   ]
  },
  {
   "cell_type": "code",
   "execution_count": 40,
   "metadata": {
    "id": "AFF8d1l8zgK2"
   },
   "outputs": [
    {
     "name": "stdout",
     "output_type": "stream",
     "text": [
      "Below table shows how much each advertising medium's ROI could increase/decrease while the optimal allocation from step (3) stays the same.\n"
     ]
    },
    {
     "data": {
      "text/html": [
       "<div>\n",
       "<style scoped>\n",
       "    .dataframe tbody tr th:only-of-type {\n",
       "        vertical-align: middle;\n",
       "    }\n",
       "\n",
       "    .dataframe tbody tr th {\n",
       "        vertical-align: top;\n",
       "    }\n",
       "\n",
       "    .dataframe thead th {\n",
       "        text-align: right;\n",
       "    }\n",
       "</style>\n",
       "<table border=\"1\" class=\"dataframe\">\n",
       "  <thead>\n",
       "    <tr style=\"text-align: right;\">\n",
       "      <th></th>\n",
       "      <th>Print</th>\n",
       "      <th>TV</th>\n",
       "      <th>SEO</th>\n",
       "      <th>AdWords</th>\n",
       "      <th>Facebook</th>\n",
       "      <th>LinkedIn</th>\n",
       "      <th>Instagram</th>\n",
       "      <th>Snapchat</th>\n",
       "      <th>Twitter</th>\n",
       "      <th>Email</th>\n",
       "    </tr>\n",
       "  </thead>\n",
       "  <tbody>\n",
       "    <tr>\n",
       "      <th>Lower Bound</th>\n",
       "      <td>-inf</td>\n",
       "      <td>0.039</td>\n",
       "      <td>-inf</td>\n",
       "      <td>0.033</td>\n",
       "      <td>-inf</td>\n",
       "      <td>-inf</td>\n",
       "      <td>0.039</td>\n",
       "      <td>-inf</td>\n",
       "      <td>-inf</td>\n",
       "      <td>0.029</td>\n",
       "    </tr>\n",
       "    <tr>\n",
       "      <th>Upper Bound</th>\n",
       "      <td>0.049</td>\n",
       "      <td>0.062</td>\n",
       "      <td>0.039</td>\n",
       "      <td>0.046</td>\n",
       "      <td>0.029</td>\n",
       "      <td>0.039</td>\n",
       "      <td>inf</td>\n",
       "      <td>0.039</td>\n",
       "      <td>0.039</td>\n",
       "      <td>inf</td>\n",
       "    </tr>\n",
       "  </tbody>\n",
       "</table>\n",
       "</div>"
      ],
      "text/plain": [
       "             Print     TV    SEO  AdWords  Facebook  LinkedIn  Instagram  \\\n",
       "Lower Bound   -inf  0.039   -inf    0.033      -inf      -inf      0.039   \n",
       "Upper Bound  0.049  0.062  0.039    0.046     0.029     0.039        inf   \n",
       "\n",
       "             Snapchat  Twitter  Email  \n",
       "Lower Bound      -inf     -inf  0.029  \n",
       "Upper Bound     0.039    0.039    inf  "
      ]
     },
     "execution_count": 40,
     "metadata": {},
     "output_type": "execute_result"
    }
   ],
   "source": [
    "df_bound = pd.DataFrame(columns = roi_data.columns.values.tolist())\n",
    "df_bound.loc['Lower Bound'] = marketingModX.SAOBjLow\n",
    "df_bound.loc['Upper Bound'] = marketingModX.SAOBjUp\n",
    "\n",
    "print('Below table shows how much each advertising medium\\'s ROI could increase/decrease while the optimal allocation from step (3) stays the same.')\n",
    "df_bound"
   ]
  },
  {
   "cell_type": "markdown",
   "metadata": {
    "id": "6El59vYr_utV"
   },
   "source": [
    "## 7th Question\n",
    "\n",
    "Your boss has gained permission to reinvest half of the return. For example, if the marketing obtains a 4% return in January, the budget of February will be $10M + $10M × 4% × 50% = $10.2M. The monthly ROI for next year is given in Project1.Rdata. The three constraints given by your boss are still in place for each month. What is the optimal allocation for each month?"
   ]
  },
  {
   "cell_type": "code",
   "execution_count": 41,
   "metadata": {
    "id": "g6Jgs1iOT7bS"
   },
   "outputs": [
    {
     "data": {
      "text/html": [
       "<div>\n",
       "<style scoped>\n",
       "    .dataframe tbody tr th:only-of-type {\n",
       "        vertical-align: middle;\n",
       "    }\n",
       "\n",
       "    .dataframe tbody tr th {\n",
       "        vertical-align: top;\n",
       "    }\n",
       "\n",
       "    .dataframe thead th {\n",
       "        text-align: right;\n",
       "    }\n",
       "</style>\n",
       "<table border=\"1\" class=\"dataframe\">\n",
       "  <thead>\n",
       "    <tr style=\"text-align: right;\">\n",
       "      <th></th>\n",
       "      <th>month</th>\n",
       "      <th>Print</th>\n",
       "      <th>TV</th>\n",
       "      <th>SEO</th>\n",
       "      <th>AdWords</th>\n",
       "      <th>Facebook</th>\n",
       "      <th>LinkedIn</th>\n",
       "      <th>Instagram</th>\n",
       "      <th>Snapchat</th>\n",
       "      <th>Twitter</th>\n",
       "      <th>Email</th>\n",
       "    </tr>\n",
       "  </thead>\n",
       "  <tbody>\n",
       "    <tr>\n",
       "      <th>0</th>\n",
       "      <td>January</td>\n",
       "      <td>3000000.00</td>\n",
       "      <td>0.0</td>\n",
       "      <td>0.0</td>\n",
       "      <td>1333333.33</td>\n",
       "      <td>0.00</td>\n",
       "      <td>0.00</td>\n",
       "      <td>2666666.67</td>\n",
       "      <td>0.0</td>\n",
       "      <td>0.00</td>\n",
       "      <td>3000000.00</td>\n",
       "    </tr>\n",
       "    <tr>\n",
       "      <th>1</th>\n",
       "      <td>February</td>\n",
       "      <td>3000000.00</td>\n",
       "      <td>0.0</td>\n",
       "      <td>0.0</td>\n",
       "      <td>2395500.00</td>\n",
       "      <td>3000000.00</td>\n",
       "      <td>0.00</td>\n",
       "      <td>0.00</td>\n",
       "      <td>0.0</td>\n",
       "      <td>1791000.00</td>\n",
       "      <td>0.00</td>\n",
       "    </tr>\n",
       "    <tr>\n",
       "      <th>2</th>\n",
       "      <td>March</td>\n",
       "      <td>0.00</td>\n",
       "      <td>0.0</td>\n",
       "      <td>0.0</td>\n",
       "      <td>3000000.00</td>\n",
       "      <td>0.00</td>\n",
       "      <td>3000000.00</td>\n",
       "      <td>1389648.00</td>\n",
       "      <td>0.0</td>\n",
       "      <td>3000000.00</td>\n",
       "      <td>0.00</td>\n",
       "    </tr>\n",
       "    <tr>\n",
       "      <th>3</th>\n",
       "      <td>April</td>\n",
       "      <td>0.00</td>\n",
       "      <td>0.0</td>\n",
       "      <td>0.0</td>\n",
       "      <td>3000000.00</td>\n",
       "      <td>0.00</td>\n",
       "      <td>3000000.00</td>\n",
       "      <td>3000000.00</td>\n",
       "      <td>0.0</td>\n",
       "      <td>1596856.49</td>\n",
       "      <td>0.00</td>\n",
       "    </tr>\n",
       "    <tr>\n",
       "      <th>4</th>\n",
       "      <td>May</td>\n",
       "      <td>1804099.90</td>\n",
       "      <td>0.0</td>\n",
       "      <td>0.0</td>\n",
       "      <td>0.00</td>\n",
       "      <td>0.00</td>\n",
       "      <td>0.00</td>\n",
       "      <td>3000000.00</td>\n",
       "      <td>0.0</td>\n",
       "      <td>3000000.00</td>\n",
       "      <td>3000000.00</td>\n",
       "    </tr>\n",
       "    <tr>\n",
       "      <th>5</th>\n",
       "      <td>June</td>\n",
       "      <td>3000000.00</td>\n",
       "      <td>0.0</td>\n",
       "      <td>0.0</td>\n",
       "      <td>0.00</td>\n",
       "      <td>0.00</td>\n",
       "      <td>0.00</td>\n",
       "      <td>3000000.00</td>\n",
       "      <td>0.0</td>\n",
       "      <td>2020171.65</td>\n",
       "      <td>3000000.00</td>\n",
       "    </tr>\n",
       "    <tr>\n",
       "      <th>6</th>\n",
       "      <td>July</td>\n",
       "      <td>0.00</td>\n",
       "      <td>0.0</td>\n",
       "      <td>0.0</td>\n",
       "      <td>3000000.00</td>\n",
       "      <td>2247554.91</td>\n",
       "      <td>0.00</td>\n",
       "      <td>3000000.00</td>\n",
       "      <td>0.0</td>\n",
       "      <td>3000000.00</td>\n",
       "      <td>0.00</td>\n",
       "    </tr>\n",
       "    <tr>\n",
       "      <th>7</th>\n",
       "      <td>August</td>\n",
       "      <td>3000000.00</td>\n",
       "      <td>0.0</td>\n",
       "      <td>0.0</td>\n",
       "      <td>1827294.08</td>\n",
       "      <td>0.00</td>\n",
       "      <td>654588.16</td>\n",
       "      <td>0.00</td>\n",
       "      <td>0.0</td>\n",
       "      <td>3000000.00</td>\n",
       "      <td>3000000.00</td>\n",
       "    </tr>\n",
       "    <tr>\n",
       "      <th>8</th>\n",
       "      <td>September</td>\n",
       "      <td>1362932.65</td>\n",
       "      <td>0.0</td>\n",
       "      <td>0.0</td>\n",
       "      <td>3000000.00</td>\n",
       "      <td>0.00</td>\n",
       "      <td>3000000.00</td>\n",
       "      <td>0.00</td>\n",
       "      <td>0.0</td>\n",
       "      <td>3000000.00</td>\n",
       "      <td>1362932.65</td>\n",
       "    </tr>\n",
       "    <tr>\n",
       "      <th>9</th>\n",
       "      <td>October</td>\n",
       "      <td>0.00</td>\n",
       "      <td>0.0</td>\n",
       "      <td>0.0</td>\n",
       "      <td>3000000.00</td>\n",
       "      <td>0.00</td>\n",
       "      <td>3000000.00</td>\n",
       "      <td>3000000.00</td>\n",
       "      <td>0.0</td>\n",
       "      <td>0.00</td>\n",
       "      <td>2955475.27</td>\n",
       "    </tr>\n",
       "    <tr>\n",
       "      <th>10</th>\n",
       "      <td>November</td>\n",
       "      <td>3000000.00</td>\n",
       "      <td>0.0</td>\n",
       "      <td>0.0</td>\n",
       "      <td>2056420.96</td>\n",
       "      <td>0.00</td>\n",
       "      <td>1112841.91</td>\n",
       "      <td>3000000.00</td>\n",
       "      <td>0.0</td>\n",
       "      <td>0.00</td>\n",
       "      <td>3000000.00</td>\n",
       "    </tr>\n",
       "    <tr>\n",
       "      <th>11</th>\n",
       "      <td>December</td>\n",
       "      <td>3000000.00</td>\n",
       "      <td>3000000.0</td>\n",
       "      <td>0.0</td>\n",
       "      <td>427950.65</td>\n",
       "      <td>3000000.00</td>\n",
       "      <td>0.00</td>\n",
       "      <td>0.00</td>\n",
       "      <td>0.0</td>\n",
       "      <td>0.00</td>\n",
       "      <td>3000000.00</td>\n",
       "    </tr>\n",
       "  </tbody>\n",
       "</table>\n",
       "</div>"
      ],
      "text/plain": [
       "        month       Print         TV  SEO     AdWords    Facebook    LinkedIn  \\\n",
       "0     January  3000000.00        0.0  0.0  1333333.33        0.00        0.00   \n",
       "1    February  3000000.00        0.0  0.0  2395500.00  3000000.00        0.00   \n",
       "2       March        0.00        0.0  0.0  3000000.00        0.00  3000000.00   \n",
       "3       April        0.00        0.0  0.0  3000000.00        0.00  3000000.00   \n",
       "4         May  1804099.90        0.0  0.0        0.00        0.00        0.00   \n",
       "5        June  3000000.00        0.0  0.0        0.00        0.00        0.00   \n",
       "6        July        0.00        0.0  0.0  3000000.00  2247554.91        0.00   \n",
       "7      August  3000000.00        0.0  0.0  1827294.08        0.00   654588.16   \n",
       "8   September  1362932.65        0.0  0.0  3000000.00        0.00  3000000.00   \n",
       "9     October        0.00        0.0  0.0  3000000.00        0.00  3000000.00   \n",
       "10   November  3000000.00        0.0  0.0  2056420.96        0.00  1112841.91   \n",
       "11   December  3000000.00  3000000.0  0.0   427950.65  3000000.00        0.00   \n",
       "\n",
       "     Instagram  Snapchat     Twitter       Email  \n",
       "0   2666666.67       0.0        0.00  3000000.00  \n",
       "1         0.00       0.0  1791000.00        0.00  \n",
       "2   1389648.00       0.0  3000000.00        0.00  \n",
       "3   3000000.00       0.0  1596856.49        0.00  \n",
       "4   3000000.00       0.0  3000000.00  3000000.00  \n",
       "5   3000000.00       0.0  2020171.65  3000000.00  \n",
       "6   3000000.00       0.0  3000000.00        0.00  \n",
       "7         0.00       0.0  3000000.00  3000000.00  \n",
       "8         0.00       0.0  3000000.00  1362932.65  \n",
       "9   3000000.00       0.0        0.00  2955475.27  \n",
       "10  3000000.00       0.0        0.00  3000000.00  \n",
       "11        0.00       0.0        0.00  3000000.00  "
      ]
     },
     "execution_count": 41,
     "metadata": {},
     "output_type": "execute_result"
    }
   ],
   "source": [
    "roi_month = pd.read_csv('roi_mat.csv')\n",
    "roi_month = roi_month.rename(columns={'Unnamed: 0':'month'})\n",
    "\n",
    "optimal_allocation = pd.DataFrame(columns=list(roi_month.columns))\n",
    "\n",
    "spend = 10000000\n",
    "\n",
    "for index, row in roi_month.iterrows():\n",
    "    roi_list = [row[1]/100,row[2]/100,row[3]/100,row[4]/100,row[5]/100,row[6]/100,row[7]/100,row[8]/100,row[9]/100,row[10]/100]\n",
    "    obj = np.array(roi_list) # objective vector\n",
    "\n",
    "    A = np.zeros((3,10)) # initialize constraint matrix\n",
    "    A[0,:] = [1,1,1,1,1,1,1,1,1,1] # 10M\n",
    "    A[1,:] = [1,1,0,0,-1,0,0,0,0,-1] # Constraint A\n",
    "    A[2,:] = [0,0,-2,-2,1,1,1,1,1,0] # Constraint B\n",
    "\n",
    "    b = np.array([spend,0,0]) \n",
    "    sense = np.array(['<','<','>']) # all constraints are less than or equal constraints\n",
    "\n",
    "    marketingModel = gp.Model() \n",
    "    marketingModX = marketingModel.addMVar(10, ub = np.array([3000000,3000000,3000000,3000000,3000000,3000000,3000000,3000000,3000000,3000000])) \n",
    "    marketingModCon = marketingModel.addMConstrs(A, marketingModX, sense, b) \n",
    "    marketingModel.setMObjective(None,obj,0,sense=gp.GRB.MAXIMIZE) \n",
    "    marketingModel.Params.OutputFlag = 0 \n",
    "    marketingModel.optimize()\n",
    "\n",
    "    spend = spend + (marketingModel.objVal*0.5) # reinvest half of the return \n",
    "    \n",
    "    monthly_alloc = marketingModel.x\n",
    "    \n",
    "    temp_dict = {}\n",
    "    temp_dict[list(roi_month.columns)[0]] = row[0]\n",
    "    temp_dict[list(roi_month.columns)[1]] = monthly_alloc[0]\n",
    "    temp_dict[list(roi_month.columns)[2]] = monthly_alloc[1]\n",
    "    temp_dict[list(roi_month.columns)[3]] = monthly_alloc[2]\n",
    "    temp_dict[list(roi_month.columns)[4]] = monthly_alloc[3]\n",
    "    temp_dict[list(roi_month.columns)[5]] = monthly_alloc[4]\n",
    "    temp_dict[list(roi_month.columns)[6]] = monthly_alloc[5]\n",
    "    temp_dict[list(roi_month.columns)[7]] = monthly_alloc[6]\n",
    "    temp_dict[list(roi_month.columns)[8]] = monthly_alloc[7]\n",
    "    temp_dict[list(roi_month.columns)[9]] = monthly_alloc[8]\n",
    "    temp_dict[list(roi_month.columns)[10]] = monthly_alloc[9]\n",
    "    \n",
    "    optimal_allocation = round(optimal_allocation.append(temp_dict, ignore_index=True),2)\n",
    "\n",
    "    \n",
    "optimal_allocation"
   ]
  },
  {
   "cell_type": "markdown",
   "metadata": {
    "id": "J8sYV5bs_2Xb"
   },
   "source": [
    "## 8th Question\n",
    "\n",
    "A stable budget is defined as a monthly allocation such that for each platform the monthly change in spend is no more than $1M. Is the allocation you found stable? If it isn’t, you do not need to solve a new optimization model. Describe how my might model this?"
   ]
  },
  {
   "cell_type": "code",
   "execution_count": 42,
   "metadata": {
    "id": "6eBdJqfBVVxl"
   },
   "outputs": [
    {
     "data": {
      "text/html": [
       "<div>\n",
       "<style scoped>\n",
       "    .dataframe tbody tr th:only-of-type {\n",
       "        vertical-align: middle;\n",
       "    }\n",
       "\n",
       "    .dataframe tbody tr th {\n",
       "        vertical-align: top;\n",
       "    }\n",
       "\n",
       "    .dataframe thead th {\n",
       "        text-align: right;\n",
       "    }\n",
       "</style>\n",
       "<table border=\"1\" class=\"dataframe\">\n",
       "  <thead>\n",
       "    <tr style=\"text-align: right;\">\n",
       "      <th></th>\n",
       "      <th>Print</th>\n",
       "      <th>TV</th>\n",
       "      <th>SEO</th>\n",
       "      <th>AdWords</th>\n",
       "      <th>Facebook</th>\n",
       "      <th>LinkedIn</th>\n",
       "      <th>Instagram</th>\n",
       "      <th>Snapchat</th>\n",
       "      <th>Twitter</th>\n",
       "      <th>Email</th>\n",
       "    </tr>\n",
       "  </thead>\n",
       "  <tbody>\n",
       "    <tr>\n",
       "      <th>0</th>\n",
       "      <td>NaN</td>\n",
       "      <td>NaN</td>\n",
       "      <td>NaN</td>\n",
       "      <td>NaN</td>\n",
       "      <td>NaN</td>\n",
       "      <td>NaN</td>\n",
       "      <td>NaN</td>\n",
       "      <td>NaN</td>\n",
       "      <td>NaN</td>\n",
       "      <td>NaN</td>\n",
       "    </tr>\n",
       "    <tr>\n",
       "      <th>1</th>\n",
       "      <td>0.00</td>\n",
       "      <td>0.0</td>\n",
       "      <td>0.0</td>\n",
       "      <td>1062166.67</td>\n",
       "      <td>3000000.00</td>\n",
       "      <td>0.00</td>\n",
       "      <td>-2666666.67</td>\n",
       "      <td>0.0</td>\n",
       "      <td>1791000.00</td>\n",
       "      <td>-3000000.00</td>\n",
       "    </tr>\n",
       "    <tr>\n",
       "      <th>2</th>\n",
       "      <td>-3000000.00</td>\n",
       "      <td>0.0</td>\n",
       "      <td>0.0</td>\n",
       "      <td>604500.00</td>\n",
       "      <td>-3000000.00</td>\n",
       "      <td>3000000.00</td>\n",
       "      <td>1389648.00</td>\n",
       "      <td>0.0</td>\n",
       "      <td>1209000.00</td>\n",
       "      <td>0.00</td>\n",
       "    </tr>\n",
       "    <tr>\n",
       "      <th>3</th>\n",
       "      <td>0.00</td>\n",
       "      <td>0.0</td>\n",
       "      <td>0.0</td>\n",
       "      <td>0.00</td>\n",
       "      <td>0.00</td>\n",
       "      <td>0.00</td>\n",
       "      <td>1610352.00</td>\n",
       "      <td>0.0</td>\n",
       "      <td>-1403143.51</td>\n",
       "      <td>0.00</td>\n",
       "    </tr>\n",
       "    <tr>\n",
       "      <th>4</th>\n",
       "      <td>1804099.90</td>\n",
       "      <td>0.0</td>\n",
       "      <td>0.0</td>\n",
       "      <td>-3000000.00</td>\n",
       "      <td>0.00</td>\n",
       "      <td>-3000000.00</td>\n",
       "      <td>0.00</td>\n",
       "      <td>0.0</td>\n",
       "      <td>1403143.51</td>\n",
       "      <td>3000000.00</td>\n",
       "    </tr>\n",
       "    <tr>\n",
       "      <th>5</th>\n",
       "      <td>1195900.10</td>\n",
       "      <td>0.0</td>\n",
       "      <td>0.0</td>\n",
       "      <td>0.00</td>\n",
       "      <td>0.00</td>\n",
       "      <td>0.00</td>\n",
       "      <td>0.00</td>\n",
       "      <td>0.0</td>\n",
       "      <td>-979828.35</td>\n",
       "      <td>0.00</td>\n",
       "    </tr>\n",
       "    <tr>\n",
       "      <th>6</th>\n",
       "      <td>-3000000.00</td>\n",
       "      <td>0.0</td>\n",
       "      <td>0.0</td>\n",
       "      <td>3000000.00</td>\n",
       "      <td>2247554.91</td>\n",
       "      <td>0.00</td>\n",
       "      <td>0.00</td>\n",
       "      <td>0.0</td>\n",
       "      <td>979828.35</td>\n",
       "      <td>-3000000.00</td>\n",
       "    </tr>\n",
       "    <tr>\n",
       "      <th>7</th>\n",
       "      <td>3000000.00</td>\n",
       "      <td>0.0</td>\n",
       "      <td>0.0</td>\n",
       "      <td>-1172705.92</td>\n",
       "      <td>-2247554.91</td>\n",
       "      <td>654588.16</td>\n",
       "      <td>-3000000.00</td>\n",
       "      <td>0.0</td>\n",
       "      <td>0.00</td>\n",
       "      <td>3000000.00</td>\n",
       "    </tr>\n",
       "    <tr>\n",
       "      <th>8</th>\n",
       "      <td>-1637067.35</td>\n",
       "      <td>0.0</td>\n",
       "      <td>0.0</td>\n",
       "      <td>1172705.92</td>\n",
       "      <td>0.00</td>\n",
       "      <td>2345411.84</td>\n",
       "      <td>0.00</td>\n",
       "      <td>0.0</td>\n",
       "      <td>0.00</td>\n",
       "      <td>-1637067.35</td>\n",
       "    </tr>\n",
       "    <tr>\n",
       "      <th>9</th>\n",
       "      <td>-1362932.65</td>\n",
       "      <td>0.0</td>\n",
       "      <td>0.0</td>\n",
       "      <td>0.00</td>\n",
       "      <td>0.00</td>\n",
       "      <td>0.00</td>\n",
       "      <td>3000000.00</td>\n",
       "      <td>0.0</td>\n",
       "      <td>-3000000.00</td>\n",
       "      <td>1592542.62</td>\n",
       "    </tr>\n",
       "    <tr>\n",
       "      <th>10</th>\n",
       "      <td>3000000.00</td>\n",
       "      <td>0.0</td>\n",
       "      <td>0.0</td>\n",
       "      <td>-943579.04</td>\n",
       "      <td>0.00</td>\n",
       "      <td>-1887158.09</td>\n",
       "      <td>0.00</td>\n",
       "      <td>0.0</td>\n",
       "      <td>0.00</td>\n",
       "      <td>44524.73</td>\n",
       "    </tr>\n",
       "    <tr>\n",
       "      <th>11</th>\n",
       "      <td>0.00</td>\n",
       "      <td>3000000.0</td>\n",
       "      <td>0.0</td>\n",
       "      <td>-1628470.31</td>\n",
       "      <td>3000000.00</td>\n",
       "      <td>-1112841.91</td>\n",
       "      <td>-3000000.00</td>\n",
       "      <td>0.0</td>\n",
       "      <td>0.00</td>\n",
       "      <td>0.00</td>\n",
       "    </tr>\n",
       "  </tbody>\n",
       "</table>\n",
       "</div>"
      ],
      "text/plain": [
       "         Print         TV  SEO     AdWords    Facebook    LinkedIn  \\\n",
       "0          NaN        NaN  NaN         NaN         NaN         NaN   \n",
       "1         0.00        0.0  0.0  1062166.67  3000000.00        0.00   \n",
       "2  -3000000.00        0.0  0.0   604500.00 -3000000.00  3000000.00   \n",
       "3         0.00        0.0  0.0        0.00        0.00        0.00   \n",
       "4   1804099.90        0.0  0.0 -3000000.00        0.00 -3000000.00   \n",
       "5   1195900.10        0.0  0.0        0.00        0.00        0.00   \n",
       "6  -3000000.00        0.0  0.0  3000000.00  2247554.91        0.00   \n",
       "7   3000000.00        0.0  0.0 -1172705.92 -2247554.91   654588.16   \n",
       "8  -1637067.35        0.0  0.0  1172705.92        0.00  2345411.84   \n",
       "9  -1362932.65        0.0  0.0        0.00        0.00        0.00   \n",
       "10  3000000.00        0.0  0.0  -943579.04        0.00 -1887158.09   \n",
       "11        0.00  3000000.0  0.0 -1628470.31  3000000.00 -1112841.91   \n",
       "\n",
       "     Instagram  Snapchat     Twitter       Email  \n",
       "0          NaN       NaN         NaN         NaN  \n",
       "1  -2666666.67       0.0  1791000.00 -3000000.00  \n",
       "2   1389648.00       0.0  1209000.00        0.00  \n",
       "3   1610352.00       0.0 -1403143.51        0.00  \n",
       "4         0.00       0.0  1403143.51  3000000.00  \n",
       "5         0.00       0.0  -979828.35        0.00  \n",
       "6         0.00       0.0   979828.35 -3000000.00  \n",
       "7  -3000000.00       0.0        0.00  3000000.00  \n",
       "8         0.00       0.0        0.00 -1637067.35  \n",
       "9   3000000.00       0.0 -3000000.00  1592542.62  \n",
       "10        0.00       0.0        0.00    44524.73  \n",
       "11 -3000000.00       0.0        0.00        0.00  "
      ]
     },
     "execution_count": 42,
     "metadata": {},
     "output_type": "execute_result"
    }
   ],
   "source": [
    "# Difference between the month budget and the month before budget\n",
    "optimal_allocation[['Print',\t'TV',\t'SEO',\t'AdWords',\t'Facebook',\t'LinkedIn',\t'Instagram',\t'Snapchat',\t'Twitter',\t'Email']].diff()"
   ]
  },
  {
   "cell_type": "markdown",
   "metadata": {
    "id": "2Q3CcLmCW7f0"
   },
   "source": [
    "The allocation we found is not stable. There are multiple instances where the change from month to month is greater than 1M dollar. To change the model so that there would be a stable budget, we would have to add a variable for each month in the for loop that would contain the optimal allocation for the previous month. Then, we would have to add a constraint that checks whether or not each month of the current year's optimal allocation is within $1M dollar of the previous month's budget, using the variable we created within the loop."
   ]
  }
 ],
 "metadata": {
  "colab": {
   "collapsed_sections": [],
   "provenance": []
  },
  "kernelspec": {
   "display_name": "Python 3",
   "language": "python",
   "name": "python3"
  },
  "language_info": {
   "codemirror_mode": {
    "name": "ipython",
    "version": 3
   },
   "file_extension": ".py",
   "mimetype": "text/x-python",
   "name": "python",
   "nbconvert_exporter": "python",
   "pygments_lexer": "ipython3",
   "version": "3.8.8"
  }
 },
 "nbformat": 4,
 "nbformat_minor": 1
}
